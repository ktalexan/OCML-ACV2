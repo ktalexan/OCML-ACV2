{
 "cells": [
  {
   "cell_type": "markdown",
   "metadata": {},
   "source": [
    "# OCML Development Notes\n",
    "## Python Development Documentation"
   ]
  },
  {
   "cell_type": "markdown",
   "metadata": {},
   "source": [
    "Importing the required libraries into the project"
   ]
  },
  {
   "cell_type": "code",
   "execution_count": 1,
   "metadata": {},
   "outputs": [],
   "source": [
    "import os, io, requests, json, geojson, cv2, glob, xlrd, math, http.client, pyproj, time, uuid\n",
    "import pandas as pd\n",
    "import matplotlib.pyplot as plt\n",
    "import numpy as np\n",
    "from decimal import Decimal\n",
    "import xlsxwriter as xlw\n",
    "from pandas.io.json import json_normalize\n",
    "from PIL import Image, ImageDraw, ImageFont\n",
    "from GPSPhoto import gpsphoto\n",
    "from datetime import datetime, timedelta\n",
    "from pytz import timezone\n",
    "from tqdm import tqdm\n",
    "from IPython.display import display\n",
    "from azure.storage.blob import BlobServiceClient, BlobClient, ContainerClient, __version__"
   ]
  },
  {
   "cell_type": "markdown",
   "metadata": {},
   "source": [
    "Set the maximum number of http requests:"
   ]
  },
  {
   "cell_type": "code",
   "execution_count": 2,
   "metadata": {},
   "outputs": [],
   "source": [
    "http.client._MAXHEADERS = 10000"
   ]
  },
  {
   "cell_type": "markdown",
   "metadata": {},
   "source": [
    "Get the blob service client\n",
    "(See the development notes file for information on how to setup the connection string in the computer's environmental variables)"
   ]
  },
  {
   "cell_type": "code",
   "execution_count": 3,
   "metadata": {},
   "outputs": [],
   "source": [
    "connect_str = os.getenv(\"AZURE_STORAGE_CONNECTION_STRING\")"
   ]
  },
  {
   "cell_type": "markdown",
   "metadata": {},
   "source": [
    "Get the _blob service client_"
   ]
  },
  {
   "cell_type": "code",
   "execution_count": 4,
   "metadata": {},
   "outputs": [],
   "source": [
    "blob_service_client = BlobServiceClient.from_connection_string(connect_str)"
   ]
  },
  {
   "cell_type": "markdown",
   "metadata": {},
   "source": [
    "Get the list of the parent (root) containers:\n",
    "(albeit not to be used)"
   ]
  },
  {
   "cell_type": "code",
   "execution_count": 5,
   "metadata": {},
   "outputs": [
    {
     "data": {
      "text/plain": [
       "{'bootdiagnostics-ocdatasci-3a4bcaf6-bcd6-48ef-8ab2-81764ecfcfa3': {},\n",
       " 'cardinaldata': {},\n",
       " 'originaldata': {},\n",
       " 'originalmetadata': {},\n",
       " 'photosphere-jsonresults': {}}"
      ]
     },
     "execution_count": 5,
     "metadata": {},
     "output_type": "execute_result"
    }
   ],
   "source": [
    "container_list = {}\n",
    "all_containers = blob_service_client.list_containers(include_metadata=True)\n",
    "for container in all_containers:\n",
    "    container_list[container[\"name\"]] = container[\"metadata\"]\n",
    "container_list"
   ]
  },
  {
   "cell_type": "markdown",
   "metadata": {},
   "source": [
    "Working on the original photosphere data. Obtaining  a list of virtual folders inside the original container:"
   ]
  },
  {
   "cell_type": "code",
   "execution_count": 6,
   "metadata": {},
   "outputs": [
    {
     "data": {
      "text/plain": [
       "['ocpw0019_PH1_2018_337_001_imagery',\n",
       " 'ocpw0019_PH1_2018_338_001_imagery',\n",
       " 'ocpw0019_PH1_2018_338_002_imagery',\n",
       " 'ocpw0019_PH2_2019_088_002_imagery',\n",
       " 'ocpw0019_PH2_2019_089_001_imagery',\n",
       " 'ocpw0019_PH2_2019_090_001_imagery',\n",
       " 'ocpw0019_PH2_2019_090_002_imagery',\n",
       " 'ocpw0019_PH2_2019_090_003_imagery',\n",
       " 'ocpw0019_PH2_2019_091_001_imagery',\n",
       " 'ocpw0019_PH2_2019_091_002_imagery',\n",
       " 'ocpw0019_PH2_2019_092_001_imagery',\n",
       " 'ocpw0019_PH2_2019_093_001_imagery',\n",
       " 'ocpw0019_PH3A_2020_034_001_imagery',\n",
       " 'ocpw0019_PH3B_2020_039_001_imagery',\n",
       " 'ocpw0019_PH3B_2020_039_002_imagery',\n",
       " 'ocpw0019_PH4_2020_038_001_imagery',\n",
       " 'ocpw0019_PH5_2020_037_001_imagery',\n",
       " 'ocpw0019_PH5_2020_037_002_imagery',\n",
       " 'ocpw0019_PH6_2020_034_001_imagery',\n",
       " 'ocpw0019_PH6_2020_034_002_imagery',\n",
       " 'ocpw0019_PH6_2020_035_001_imagery',\n",
       " 'ocpw0019_PH6_2020_036_001_imagery',\n",
       " 'ocpw0019_PH6_2020_038_001_imagery',\n",
       " 'ocpw0019_PH6_2020_319_001_imagery']"
      ]
     },
     "execution_count": 6,
     "metadata": {},
     "output_type": "execute_result"
    }
   ],
   "source": [
    "original_vfolders = []\n",
    "container_client = ContainerClient.from_connection_string(connect_str, \"originaldata\")\n",
    "for c in container_client.walk_blobs():\n",
    "    original_vfolders.append(c.name.split(\"/\")[0])\n",
    "original_vfolders"
   ]
  },
  {
   "cell_type": "markdown",
   "metadata": {},
   "source": [
    "Obtaining the list of original metadata for original data containers."
   ]
  },
  {
   "cell_type": "code",
   "execution_count": 7,
   "metadata": {},
   "outputs": [
    {
     "data": {
      "text/plain": [
       "['ocpw0019_PH1_2018_337_001_imagery.xlsx',\n",
       " 'ocpw0019_PH1_2018_338_001_imagery.xlsx',\n",
       " 'ocpw0019_PH1_2018_338_002_imagery.xlsx',\n",
       " 'ocpw0019_PH2_2019_088_002_imagery.xlsx',\n",
       " 'ocpw0019_PH2_2019_089_001_imagery.xlsx',\n",
       " 'ocpw0019_PH2_2019_090_001_imagery.xlsx',\n",
       " 'ocpw0019_PH2_2019_090_002_imagery.xlsx',\n",
       " 'ocpw0019_PH2_2019_090_003_imagery.xlsx',\n",
       " 'ocpw0019_PH2_2019_091_001_imagery.xlsx',\n",
       " 'ocpw0019_PH2_2019_091_002_imagery.xlsx',\n",
       " 'ocpw0019_PH2_2019_092_001_imagery.xlsx',\n",
       " 'ocpw0019_PH2_2019_093_001_imagery.xlsx',\n",
       " 'ocpw0019_PH3A_2020_034_001_imagery.xlsx',\n",
       " 'ocpw0019_PH3B_2020_039_001_imagery.xlsx',\n",
       " 'ocpw0019_PH3B_2020_039_002_imagery.xlsx',\n",
       " 'ocpw0019_PH4_2020_038_001_imagery.xlsx',\n",
       " 'ocpw0019_PH5_2020_037_001_imagery.xlsx',\n",
       " 'ocpw0019_PH5_2020_037_002_imagery.xlsx',\n",
       " 'ocpw0019_PH6_2020_034_001_imagery.xlsx',\n",
       " 'ocpw0019_PH6_2020_034_002_imagery.xlsx',\n",
       " 'ocpw0019_PH6_2020_035_001_imagery.xlsx',\n",
       " 'ocpw0019_PH6_2020_036_001_imagery.xlsx',\n",
       " 'ocpw0019_PH6_2020_038_001_imagery.xlsx',\n",
       " 'ocpw0019_PH6_2020_319_001_imagery.xlsx']"
      ]
     },
     "execution_count": 7,
     "metadata": {},
     "output_type": "execute_result"
    }
   ],
   "source": [
    "original_metadata = []\n",
    "container_client = ContainerClient.from_connection_string(connect_str, \"originalmetadata\")\n",
    "metadata_blob_list = container_client.list_blobs()\n",
    "for blob in metadata_blob_list:\n",
    "    original_metadata.append(blob.name)\n",
    "original_metadata"
   ]
  },
  {
   "cell_type": "code",
   "execution_count": null,
   "metadata": {},
   "outputs": [],
   "source": [
    "def CheckBlobMetadata():\n",
    "    containerList = get_blob_list()"
   ]
  },
  {
   "cell_type": "code",
   "execution_count": null,
   "metadata": {},
   "outputs": [],
   "source": [
    "def GetBlobList(container_name=None):\n",
    "    if container_name is None:\n",
    "        container = self.container_name\n",
    "    else:\n",
    "        container = container_name\n",
    "        \n",
    "    blob_list = []\n",
    "    generator = blobService.list_blobs(container)"
   ]
  }
 ],
 "metadata": {
  "kernelspec": {
   "display_name": "Python 3.9.12 ('venv': venv)",
   "language": "python",
   "name": "python3"
  },
  "language_info": {
   "codemirror_mode": {
    "name": "ipython",
    "version": 3
   },
   "file_extension": ".py",
   "mimetype": "text/x-python",
   "name": "python",
   "nbconvert_exporter": "python",
   "pygments_lexer": "ipython3",
   "version": "3.9.12"
  },
  "orig_nbformat": 4,
  "vscode": {
   "interpreter": {
    "hash": "749c034de56cee393f7b40b4ea4087f6d290281d1c4a4bf83732667a004bc8a0"
   }
  }
 },
 "nbformat": 4,
 "nbformat_minor": 2
}
