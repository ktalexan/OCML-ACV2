{
 "cells": [
  {
   "cell_type": "markdown",
   "metadata": {},
   "source": [
    "# OCML Development Notes\n",
    "## Python Development Documentation"
   ]
  },
  {
   "cell_type": "markdown",
   "metadata": {},
   "source": []
  },
  {
   "cell_type": "markdown",
   "metadata": {},
   "source": [
    "Importing the required libraries into the project"
   ]
  },
  {
   "cell_type": "code",
   "execution_count": 1,
   "metadata": {},
   "outputs": [],
   "source": [
    "import os, io, requests, json, geojson, cv2, glob, xlrd, math, http.client, pyproj, time, uuid\n",
    "import pandas as pd\n",
    "import matplotlib.pyplot as plt\n",
    "import numpy as np\n",
    "from decimal import Decimal\n",
    "import xlsxwriter as xlw\n",
    "from pandas.io.json import json_normalize\n",
    "from PIL import Image, ImageDraw, ImageFont\n",
    "from GPSPhoto import gpsphoto\n",
    "from datetime import datetime, timedelta\n",
    "from pytz import timezone\n",
    "from tqdm import tqdm\n",
    "from IPython.display import display\n",
    "from azure.storage.blob import BlobServiceClient, BlobClient, ContainerClient, __version__"
   ]
  },
  {
   "cell_type": "markdown",
   "metadata": {},
   "source": [
    "Set the maximum number of http requests:"
   ]
  },
  {
   "cell_type": "code",
   "execution_count": 2,
   "metadata": {},
   "outputs": [],
   "source": [
    "http.client._MAXHEADERS = 10000"
   ]
  },
  {
   "cell_type": "markdown",
   "metadata": {},
   "source": [
    "Get the blob service client\n",
    "(See the development notes file for information on how to setup the connection string in the computer's environmental variables)"
   ]
  },
  {
   "cell_type": "code",
   "execution_count": 17,
   "metadata": {},
   "outputs": [],
   "source": [
    "connection_string = os.getenv(\"AZURE_STORAGE_CONNECTION_STRING\")"
   ]
  },
  {
   "cell_type": "markdown",
   "metadata": {},
   "source": [
    "Get the _blob service client_"
   ]
  },
  {
   "cell_type": "code",
   "execution_count": 18,
   "metadata": {},
   "outputs": [],
   "source": [
    "blob_service = BlobServiceClient.from_connection_string(connection_string)"
   ]
  },
  {
   "cell_type": "markdown",
   "metadata": {},
   "source": [
    "Get the list of the parent (root) containers:\n",
    "(albeit not to be used)"
   ]
  },
  {
   "cell_type": "code",
   "execution_count": 13,
   "metadata": {},
   "outputs": [],
   "source": [
    "#container_list = {}\n",
    "#allContainers = blobService.list_containers(include_metadata=True)\n",
    "#for container in all_containers:\n",
    "#    container_list[container[\"name\"]] = container[\"metadata\"]\n",
    "#container_list"
   ]
  },
  {
   "cell_type": "code",
   "execution_count": 20,
   "metadata": {},
   "outputs": [
    {
     "data": {
      "text/plain": [
       "['bootdiagnostics-ocdatasci-3a4bcaf6-bcd6-48ef-8ab2-81764ecfcfa3',\n",
       " 'cardinaldata',\n",
       " 'originaldata',\n",
       " 'originalmetadata',\n",
       " 'photosphere-jsonresults']"
      ]
     },
     "execution_count": 20,
     "metadata": {},
     "output_type": "execute_result"
    }
   ],
   "source": [
    "container_list = []\n",
    "all_containers = blob_service.list_containers(include_metadata=False)\n",
    "for container in all_containers:\n",
    "    container_list.append(container.name)\n",
    "container_list"
   ]
  },
  {
   "cell_type": "markdown",
   "metadata": {},
   "source": [
    "Working on the original photosphere data. Obtaining  a list of virtual folders inside the original container:"
   ]
  },
  {
   "cell_type": "code",
   "execution_count": 36,
   "metadata": {},
   "outputs": [],
   "source": [
    "if \"originaldata\" in container_list:\n",
    "    vfolders_original = []\n",
    "    vfolders_root = []\n",
    "    \n",
    "    container_client = ContainerClient.from_connection_string(connection_string, \"originaldata\")\n",
    "    for c in container_client.walk_blobs():\n",
    "        vfolders_original.append(c.name.split(\"/\")[0])\n",
    "        vfolders_root.append(c.name.split(\"/\")[0].replace(\"_imagery\", \"\"))\n",
    "else:\n",
    "    raise Exception(\"Original Blob Folder not in Containers List\")"
   ]
  },
  {
   "cell_type": "markdown",
   "metadata": {},
   "source": [
    "Obtaining the list of original metadata for original data containers."
   ]
  },
  {
   "cell_type": "code",
   "execution_count": 42,
   "metadata": {},
   "outputs": [
    {
     "name": "stdout",
     "output_type": "stream",
     "text": [
      "['ocpw0019_PH1_2018_337_001_imagery.xlsx', 'ocpw0019_PH1_2018_338_001_imagery.xlsx', 'ocpw0019_PH1_2018_338_002_imagery.xlsx', 'ocpw0019_PH2_2019_088_002_imagery.xlsx', 'ocpw0019_PH2_2019_089_001_imagery.xlsx', 'ocpw0019_PH2_2019_090_001_imagery.xlsx', 'ocpw0019_PH2_2019_090_002_imagery.xlsx', 'ocpw0019_PH2_2019_090_003_imagery.xlsx', 'ocpw0019_PH2_2019_091_001_imagery.xlsx', 'ocpw0019_PH2_2019_091_002_imagery.xlsx', 'ocpw0019_PH2_2019_092_001_imagery.xlsx', 'ocpw0019_PH2_2019_093_001_imagery.xlsx', 'ocpw0019_PH3A_2020_034_001_imagery.xlsx', 'ocpw0019_PH3B_2020_039_001_imagery.xlsx', 'ocpw0019_PH3B_2020_039_002_imagery.xlsx', 'ocpw0019_PH4_2020_038_001_imagery.xlsx', 'ocpw0019_PH5_2020_037_001_imagery.xlsx', 'ocpw0019_PH5_2020_037_002_imagery.xlsx', 'ocpw0019_PH6_2020_034_001_imagery.xlsx', 'ocpw0019_PH6_2020_034_002_imagery.xlsx', 'ocpw0019_PH6_2020_035_001_imagery.xlsx', 'ocpw0019_PH6_2020_036_001_imagery.xlsx', 'ocpw0019_PH6_2020_038_001_imagery.xlsx', 'ocpw0019_PH6_2020_319_001_imagery.xlsx']\n"
     ]
    }
   ],
   "source": [
    "if \"originaldata\" in container_list:\n",
    "    metadata_original = []\n",
    "    container_client = ContainerClient.from_connection_string(connection_string, \"originalmetadata\")\n",
    "    metadata_blob_list = container_client.list_blobs()\n",
    "    for blob in metadata_blob_list:\n",
    "        metadata_original.append(blob.name)\n",
    "    print(metadata_original)\n",
    "else:\n",
    "    raise Exception(\"Original Blob Folder not in Containers List\")"
   ]
  },
  {
   "cell_type": "markdown",
   "metadata": {},
   "source": [
    "Get the blob list for a given folder:"
   ]
  },
  {
   "cell_type": "code",
   "execution_count": 49,
   "metadata": {},
   "outputs": [],
   "source": [
    "def get_blob_list(folder, type):\n",
    "    blob_list = []\n",
    "    if type == \"original\":\n",
    "        generator= container_client.list_blobs(folder, prefix=\"originaldata/\")\n",
    "    elif type == \"cardinal\":\n",
    "        generator = container_client.list_blobs(folder, prefix=\"cardinaldata/\")\n",
    "    elif type == \"metadata\":\n",
    "        generator = container_client.list_blobs(folder, prefix=\"metadata/\")\n",
    "    for g in generator:\n",
    "        blob_list.append(g.name)\n",
    "    print(f\"A total of {len(blob_list)} {type} data blobs added to the list for the {folder} container\")\n",
    "    return blob_list"
   ]
  },
  {
   "cell_type": "markdown",
   "metadata": {},
   "source": [
    "Loop through all the original subfolders, and add them to a python dictionary variable"
   ]
  },
  {
   "cell_type": "code",
   "execution_count": 50,
   "metadata": {},
   "outputs": [
    {
     "name": "stdout",
     "output_type": "stream",
     "text": [
      "ocpw0019_PH1_2018_337_001_imagery\n",
      "ocpw0019_PH1_2018_338_001_imagery\n",
      "ocpw0019_PH1_2018_338_002_imagery\n",
      "ocpw0019_PH2_2019_088_002_imagery\n",
      "ocpw0019_PH2_2019_089_001_imagery\n",
      "ocpw0019_PH2_2019_090_001_imagery\n",
      "ocpw0019_PH2_2019_090_002_imagery\n",
      "ocpw0019_PH2_2019_090_003_imagery\n",
      "ocpw0019_PH2_2019_091_001_imagery\n",
      "ocpw0019_PH2_2019_091_002_imagery\n",
      "ocpw0019_PH2_2019_092_001_imagery\n",
      "ocpw0019_PH2_2019_093_001_imagery\n",
      "ocpw0019_PH3A_2020_034_001_imagery\n",
      "ocpw0019_PH3B_2020_039_001_imagery\n",
      "ocpw0019_PH3B_2020_039_002_imagery\n",
      "ocpw0019_PH4_2020_038_001_imagery\n",
      "ocpw0019_PH5_2020_037_001_imagery\n",
      "ocpw0019_PH5_2020_037_002_imagery\n",
      "ocpw0019_PH6_2020_034_001_imagery\n",
      "ocpw0019_PH6_2020_034_002_imagery\n",
      "ocpw0019_PH6_2020_035_001_imagery\n",
      "ocpw0019_PH6_2020_036_001_imagery\n",
      "ocpw0019_PH6_2020_038_001_imagery\n",
      "ocpw0019_PH6_2020_319_001_imagery\n"
     ]
    }
   ],
   "source": [
    "for folder in vfolders_original:\n",
    "    print(folder)"
   ]
  },
  {
   "cell_type": "code",
   "execution_count": 48,
   "metadata": {},
   "outputs": [
    {
     "name": "stdout",
     "output_type": "stream",
     "text": [
      "A total of 1 original data blobs added to the list for the ocpw0019_PH1_2018_337_001_imagery container\n",
      "A total of 1 original data blobs added to the list for the ocpw0019_PH1_2018_338_001_imagery container\n",
      "A total of 1 original data blobs added to the list for the ocpw0019_PH1_2018_338_002_imagery container\n",
      "A total of 1 original data blobs added to the list for the ocpw0019_PH2_2019_088_002_imagery container\n",
      "A total of 1 original data blobs added to the list for the ocpw0019_PH2_2019_089_001_imagery container\n",
      "A total of 1 original data blobs added to the list for the ocpw0019_PH2_2019_090_001_imagery container\n",
      "A total of 1 original data blobs added to the list for the ocpw0019_PH2_2019_090_002_imagery container\n",
      "A total of 1 original data blobs added to the list for the ocpw0019_PH2_2019_090_003_imagery container\n",
      "A total of 1 original data blobs added to the list for the ocpw0019_PH2_2019_091_001_imagery container\n",
      "A total of 1 original data blobs added to the list for the ocpw0019_PH2_2019_091_002_imagery container\n",
      "A total of 1 original data blobs added to the list for the ocpw0019_PH2_2019_092_001_imagery container\n",
      "A total of 1 original data blobs added to the list for the ocpw0019_PH2_2019_093_001_imagery container\n",
      "A total of 1 original data blobs added to the list for the ocpw0019_PH3A_2020_034_001_imagery container\n",
      "A total of 1 original data blobs added to the list for the ocpw0019_PH3B_2020_039_001_imagery container\n",
      "A total of 1 original data blobs added to the list for the ocpw0019_PH3B_2020_039_002_imagery container\n",
      "A total of 1 original data blobs added to the list for the ocpw0019_PH4_2020_038_001_imagery container\n",
      "A total of 1 original data blobs added to the list for the ocpw0019_PH5_2020_037_001_imagery container\n",
      "A total of 1 original data blobs added to the list for the ocpw0019_PH5_2020_037_002_imagery container\n",
      "A total of 1 original data blobs added to the list for the ocpw0019_PH6_2020_034_001_imagery container\n",
      "A total of 1 original data blobs added to the list for the ocpw0019_PH6_2020_034_002_imagery container\n",
      "A total of 1 original data blobs added to the list for the ocpw0019_PH6_2020_035_001_imagery container\n",
      "A total of 1 original data blobs added to the list for the ocpw0019_PH6_2020_036_001_imagery container\n",
      "A total of 1 original data blobs added to the list for the ocpw0019_PH6_2020_038_001_imagery container\n",
      "A total of 1 original data blobs added to the list for the ocpw0019_PH6_2020_319_001_imagery container\n"
     ]
    }
   ],
   "source": [
    "vfolder_blob_list = {}\n",
    "for folder in vfolders_original:\n",
    "    vfolder_blob_list[folder] = get_blob_list(folder, \"original\")"
   ]
  },
  {
   "cell_type": "code",
   "execution_count": 7,
   "metadata": {},
   "outputs": [],
   "source": [
    "def CheckBlobMetadata():\n",
    "    containerList = get_blob_list()"
   ]
  },
  {
   "cell_type": "code",
   "execution_count": 8,
   "metadata": {},
   "outputs": [],
   "source": [
    "def GetBlobList(container_name=None):\n",
    "    if container_name is None:\n",
    "        container = self.container_name\n",
    "    else:\n",
    "        container = container_name\n",
    "        \n",
    "    blob_list = []\n",
    "    generator = blobService.list_blobs(container)"
   ]
  },
  {
   "cell_type": "code",
   "execution_count": null,
   "metadata": {},
   "outputs": [],
   "source": []
  }
 ],
 "metadata": {
  "kernelspec": {
   "display_name": "Python 3.9.12 ('venv': venv)",
   "language": "python",
   "name": "python3"
  },
  "language_info": {
   "codemirror_mode": {
    "name": "ipython",
    "version": 3
   },
   "file_extension": ".py",
   "mimetype": "text/x-python",
   "name": "python",
   "nbconvert_exporter": "python",
   "pygments_lexer": "ipython3",
   "version": "3.9.12"
  },
  "orig_nbformat": 4,
  "vscode": {
   "interpreter": {
    "hash": "1258a1820a2e7fd5472a98606e0ccfbca27d2022bb5e9bc7eef673b42cdc6b29"
   }
  }
 },
 "nbformat": 4,
 "nbformat_minor": 2
}
